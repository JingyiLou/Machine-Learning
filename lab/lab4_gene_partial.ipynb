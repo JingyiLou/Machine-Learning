{
 "cells": [
  {
   "cell_type": "markdown",
   "metadata": {},
   "source": [
    "# Lab:  Logistic Regression for Gene Expression Data\n",
    "\n",
    "In this lab, we use logistic regression to predict biological characteristics (\"phenotypes\") from gene expression data.  In addition to the concepts in [breast cancer demo](./breast_cancer.ipynb), you will learn to:\n",
    "* Handle missing data\n",
    "* Perform multi-class logistic classification\n",
    "* Create a confusion matrix\n",
    "* Use L1-regularization for improved estimation in the case of sparse weights (Grad students only)\n",
    "\n",
    "## Background\n",
    "\n",
    "Genes are the basic unit in the DNA and encode blueprints for proteins.  When proteins are synthesized from a gene, the gene is said to \"express\".  Micro-arrays are devices that measure the expression levels of large numbers of genes in parallel.  By finding correlations between expression levels and phenotypes, scientists can identify possible genetic markers for biological characteristics.\n",
    "\n",
    "The data in this lab comes from:\n",
    "\n",
    "https://archive.ics.uci.edu/ml/datasets/Mice+Protein+Expression\n",
    "\n",
    "In this data, mice were characterized by three properties:\n",
    "* Whether they had down's syndrome (trisomy) or not\n",
    "* Whether they were stimulated to learn or not\n",
    "* Whether they had a drug memantine or a saline control solution.\n",
    "\n",
    "With these three choices, there are 8 possible classes for each mouse.  For each mouse, the expression levels were measured across 77 genes.  We will see if the characteristics can be predicted from the gene expression levels.  This classification could reveal which genes are potentially involved in Down's syndrome and if drugs and learning have any noticeable effects.\n"
   ]
  },
  {
   "cell_type": "markdown",
   "metadata": {},
   "source": [
    "## Load the Data\n",
    "\n",
    "We begin by loading the standard modules."
   ]
  },
  {
   "cell_type": "code",
   "execution_count": 51,
   "metadata": {
    "collapsed": true
   },
   "outputs": [],
   "source": [
    "import pandas as pd\n",
    "import numpy as np\n",
    "import matplotlib\n",
    "import matplotlib.pyplot as plt\n",
    "%matplotlib inline\n",
    "from sklearn import linear_model, preprocessing"
   ]
  },
  {
   "cell_type": "markdown",
   "metadata": {},
   "source": [
    "Use the `pd.read_excel` command to read the data from \n",
    "\n",
    "https://archive.ics.uci.edu/ml/machine-learning-databases/00342/Data_Cortex_Nuclear.xls\n",
    "\n",
    "into a dataframe `df`.  Use the `index_col` option to specify that column 0 is the index.  Use the `df.head()` to print the first few rows."
   ]
  },
  {
   "cell_type": "code",
   "execution_count": 47,
   "metadata": {},
   "outputs": [
    {
     "data": {
      "text/html": [
       "<div>\n",
       "<style>\n",
       "    .dataframe thead tr:only-child th {\n",
       "        text-align: right;\n",
       "    }\n",
       "\n",
       "    .dataframe thead th {\n",
       "        text-align: left;\n",
       "    }\n",
       "\n",
       "    .dataframe tbody tr th {\n",
       "        vertical-align: top;\n",
       "    }\n",
       "</style>\n",
       "<table border=\"1\" class=\"dataframe\">\n",
       "  <thead>\n",
       "    <tr style=\"text-align: right;\">\n",
       "      <th></th>\n",
       "      <th>DYRK1A_N</th>\n",
       "      <th>ITSN1_N</th>\n",
       "      <th>BDNF_N</th>\n",
       "      <th>NR1_N</th>\n",
       "      <th>NR2A_N</th>\n",
       "      <th>pAKT_N</th>\n",
       "      <th>pBRAF_N</th>\n",
       "      <th>pCAMKII_N</th>\n",
       "      <th>pCREB_N</th>\n",
       "      <th>pELK_N</th>\n",
       "      <th>...</th>\n",
       "      <th>pCFOS_N</th>\n",
       "      <th>SYP_N</th>\n",
       "      <th>H3AcK18_N</th>\n",
       "      <th>EGR1_N</th>\n",
       "      <th>H3MeK4_N</th>\n",
       "      <th>CaNA_N</th>\n",
       "      <th>Genotype</th>\n",
       "      <th>Treatment</th>\n",
       "      <th>Behavior</th>\n",
       "      <th>class</th>\n",
       "    </tr>\n",
       "    <tr>\n",
       "      <th>MouseID</th>\n",
       "      <th></th>\n",
       "      <th></th>\n",
       "      <th></th>\n",
       "      <th></th>\n",
       "      <th></th>\n",
       "      <th></th>\n",
       "      <th></th>\n",
       "      <th></th>\n",
       "      <th></th>\n",
       "      <th></th>\n",
       "      <th></th>\n",
       "      <th></th>\n",
       "      <th></th>\n",
       "      <th></th>\n",
       "      <th></th>\n",
       "      <th></th>\n",
       "      <th></th>\n",
       "      <th></th>\n",
       "      <th></th>\n",
       "      <th></th>\n",
       "      <th></th>\n",
       "    </tr>\n",
       "  </thead>\n",
       "  <tbody>\n",
       "    <tr>\n",
       "      <th>309_1</th>\n",
       "      <td>0.503644</td>\n",
       "      <td>0.747193</td>\n",
       "      <td>0.430175</td>\n",
       "      <td>2.816329</td>\n",
       "      <td>5.990152</td>\n",
       "      <td>0.218830</td>\n",
       "      <td>0.177565</td>\n",
       "      <td>2.373744</td>\n",
       "      <td>0.232224</td>\n",
       "      <td>1.750936</td>\n",
       "      <td>...</td>\n",
       "      <td>0.108336</td>\n",
       "      <td>0.427099</td>\n",
       "      <td>0.114783</td>\n",
       "      <td>0.131790</td>\n",
       "      <td>0.128186</td>\n",
       "      <td>1.675652</td>\n",
       "      <td>Control</td>\n",
       "      <td>Memantine</td>\n",
       "      <td>C/S</td>\n",
       "      <td>c-CS-m</td>\n",
       "    </tr>\n",
       "    <tr>\n",
       "      <th>309_2</th>\n",
       "      <td>0.514617</td>\n",
       "      <td>0.689064</td>\n",
       "      <td>0.411770</td>\n",
       "      <td>2.789514</td>\n",
       "      <td>5.685038</td>\n",
       "      <td>0.211636</td>\n",
       "      <td>0.172817</td>\n",
       "      <td>2.292150</td>\n",
       "      <td>0.226972</td>\n",
       "      <td>1.596377</td>\n",
       "      <td>...</td>\n",
       "      <td>0.104315</td>\n",
       "      <td>0.441581</td>\n",
       "      <td>0.111974</td>\n",
       "      <td>0.135103</td>\n",
       "      <td>0.131119</td>\n",
       "      <td>1.743610</td>\n",
       "      <td>Control</td>\n",
       "      <td>Memantine</td>\n",
       "      <td>C/S</td>\n",
       "      <td>c-CS-m</td>\n",
       "    </tr>\n",
       "    <tr>\n",
       "      <th>309_3</th>\n",
       "      <td>0.509183</td>\n",
       "      <td>0.730247</td>\n",
       "      <td>0.418309</td>\n",
       "      <td>2.687201</td>\n",
       "      <td>5.622059</td>\n",
       "      <td>0.209011</td>\n",
       "      <td>0.175722</td>\n",
       "      <td>2.283337</td>\n",
       "      <td>0.230247</td>\n",
       "      <td>1.561316</td>\n",
       "      <td>...</td>\n",
       "      <td>0.106219</td>\n",
       "      <td>0.435777</td>\n",
       "      <td>0.111883</td>\n",
       "      <td>0.133362</td>\n",
       "      <td>0.127431</td>\n",
       "      <td>1.926427</td>\n",
       "      <td>Control</td>\n",
       "      <td>Memantine</td>\n",
       "      <td>C/S</td>\n",
       "      <td>c-CS-m</td>\n",
       "    </tr>\n",
       "    <tr>\n",
       "      <th>309_4</th>\n",
       "      <td>0.442107</td>\n",
       "      <td>0.617076</td>\n",
       "      <td>0.358626</td>\n",
       "      <td>2.466947</td>\n",
       "      <td>4.979503</td>\n",
       "      <td>0.222886</td>\n",
       "      <td>0.176463</td>\n",
       "      <td>2.152301</td>\n",
       "      <td>0.207004</td>\n",
       "      <td>1.595086</td>\n",
       "      <td>...</td>\n",
       "      <td>0.111262</td>\n",
       "      <td>0.391691</td>\n",
       "      <td>0.130405</td>\n",
       "      <td>0.147444</td>\n",
       "      <td>0.146901</td>\n",
       "      <td>1.700563</td>\n",
       "      <td>Control</td>\n",
       "      <td>Memantine</td>\n",
       "      <td>C/S</td>\n",
       "      <td>c-CS-m</td>\n",
       "    </tr>\n",
       "    <tr>\n",
       "      <th>309_5</th>\n",
       "      <td>0.434940</td>\n",
       "      <td>0.617430</td>\n",
       "      <td>0.358802</td>\n",
       "      <td>2.365785</td>\n",
       "      <td>4.718679</td>\n",
       "      <td>0.213106</td>\n",
       "      <td>0.173627</td>\n",
       "      <td>2.134014</td>\n",
       "      <td>0.192158</td>\n",
       "      <td>1.504230</td>\n",
       "      <td>...</td>\n",
       "      <td>0.110694</td>\n",
       "      <td>0.434154</td>\n",
       "      <td>0.118481</td>\n",
       "      <td>0.140314</td>\n",
       "      <td>0.148380</td>\n",
       "      <td>1.839730</td>\n",
       "      <td>Control</td>\n",
       "      <td>Memantine</td>\n",
       "      <td>C/S</td>\n",
       "      <td>c-CS-m</td>\n",
       "    </tr>\n",
       "    <tr>\n",
       "      <th>309_6</th>\n",
       "      <td>0.447506</td>\n",
       "      <td>0.628176</td>\n",
       "      <td>0.367388</td>\n",
       "      <td>2.385939</td>\n",
       "      <td>4.807635</td>\n",
       "      <td>0.218578</td>\n",
       "      <td>0.176233</td>\n",
       "      <td>2.141282</td>\n",
       "      <td>0.195188</td>\n",
       "      <td>1.442398</td>\n",
       "      <td>...</td>\n",
       "      <td>0.109446</td>\n",
       "      <td>0.439833</td>\n",
       "      <td>0.116657</td>\n",
       "      <td>0.140766</td>\n",
       "      <td>0.142180</td>\n",
       "      <td>1.816389</td>\n",
       "      <td>Control</td>\n",
       "      <td>Memantine</td>\n",
       "      <td>C/S</td>\n",
       "      <td>c-CS-m</td>\n",
       "    </tr>\n",
       "  </tbody>\n",
       "</table>\n",
       "<p>6 rows × 81 columns</p>\n",
       "</div>"
      ],
      "text/plain": [
       "         DYRK1A_N   ITSN1_N    BDNF_N     NR1_N    NR2A_N    pAKT_N   pBRAF_N  \\\n",
       "MouseID                                                                         \n",
       "309_1    0.503644  0.747193  0.430175  2.816329  5.990152  0.218830  0.177565   \n",
       "309_2    0.514617  0.689064  0.411770  2.789514  5.685038  0.211636  0.172817   \n",
       "309_3    0.509183  0.730247  0.418309  2.687201  5.622059  0.209011  0.175722   \n",
       "309_4    0.442107  0.617076  0.358626  2.466947  4.979503  0.222886  0.176463   \n",
       "309_5    0.434940  0.617430  0.358802  2.365785  4.718679  0.213106  0.173627   \n",
       "309_6    0.447506  0.628176  0.367388  2.385939  4.807635  0.218578  0.176233   \n",
       "\n",
       "         pCAMKII_N   pCREB_N    pELK_N   ...     pCFOS_N     SYP_N  H3AcK18_N  \\\n",
       "MouseID                                  ...                                    \n",
       "309_1     2.373744  0.232224  1.750936   ...    0.108336  0.427099   0.114783   \n",
       "309_2     2.292150  0.226972  1.596377   ...    0.104315  0.441581   0.111974   \n",
       "309_3     2.283337  0.230247  1.561316   ...    0.106219  0.435777   0.111883   \n",
       "309_4     2.152301  0.207004  1.595086   ...    0.111262  0.391691   0.130405   \n",
       "309_5     2.134014  0.192158  1.504230   ...    0.110694  0.434154   0.118481   \n",
       "309_6     2.141282  0.195188  1.442398   ...    0.109446  0.439833   0.116657   \n",
       "\n",
       "           EGR1_N  H3MeK4_N    CaNA_N  Genotype  Treatment  Behavior   class  \n",
       "MouseID                                                                       \n",
       "309_1    0.131790  0.128186  1.675652   Control  Memantine       C/S  c-CS-m  \n",
       "309_2    0.135103  0.131119  1.743610   Control  Memantine       C/S  c-CS-m  \n",
       "309_3    0.133362  0.127431  1.926427   Control  Memantine       C/S  c-CS-m  \n",
       "309_4    0.147444  0.146901  1.700563   Control  Memantine       C/S  c-CS-m  \n",
       "309_5    0.140314  0.148380  1.839730   Control  Memantine       C/S  c-CS-m  \n",
       "309_6    0.140766  0.142180  1.816389   Control  Memantine       C/S  c-CS-m  \n",
       "\n",
       "[6 rows x 81 columns]"
      ]
     },
     "execution_count": 47,
     "metadata": {},
     "output_type": "execute_result"
    }
   ],
   "source": [
    "# TODO\n",
    "df = pd.read_excel('https://archive.ics.uci.edu/ml/machine-learning-databases/00342/Data_Cortex_Nuclear.xls',\n",
    "                  index_col=0)\n",
    "df.head(6)"
   ]
  },
  {
   "cell_type": "markdown",
   "metadata": {},
   "source": [
    "This data has missing values.  The site:\n",
    "\n",
    "http://pandas.pydata.org/pandas-docs/stable/missing_data.html\n",
    "\n",
    "has an excellent summary of methods to deal with missing values.  Following the techniques there, create a new data frame `df1` where the missing values in each column are filled with the mean values from the non-missing values."
   ]
  },
  {
   "cell_type": "code",
   "execution_count": 72,
   "metadata": {
    "collapsed": true
   },
   "outputs": [],
   "source": [
    "# TODO\n",
    "df1 = df.fillna(df.mean())"
   ]
  },
  {
   "cell_type": "markdown",
   "metadata": {},
   "source": [
    "## Binary Classification for Down's Syndrome\n",
    "\n",
    "We will first predict the binary class label in `df1['Genotype']` which indicates if the mouse has Down's syndrome or not.  Get the string values in `df1['Genotype'].values` and convert this to a numeric vector `y` with 0 or 1.  You may wish to use the `np.unique` command with the `return_inverse=True` option."
   ]
  },
  {
   "cell_type": "code",
   "execution_count": 81,
   "metadata": {},
   "outputs": [
    {
     "name": "stdout",
     "output_type": "stream",
     "text": [
      "[0 0 0 ..., 1 1 1]\n"
     ]
    }
   ],
   "source": [
    "# TODO\n",
    "u, indices = np.unique(df1['Genotype'].values, return_inverse = True)\n",
    "y = indices\n",
    "print(y)"
   ]
  },
  {
   "cell_type": "markdown",
   "metadata": {},
   "source": [
    "As predictors, get all but the last four columns of the dataframes.  Standardize the data matrix and call the standardized matrix `Xs`.  The predictors are the expression levels of the 77 genes. "
   ]
  },
  {
   "cell_type": "code",
   "execution_count": 78,
   "metadata": {
    "collapsed": true
   },
   "outputs": [],
   "source": [
    "# TODO\n",
    "collen = len(df1.columns)\n",
    "att = df1.columns[:collen-4]\n",
    "Xs = preprocessing.scale(df1[att])"
   ]
  },
  {
   "cell_type": "markdown",
   "metadata": {},
   "source": [
    "Create a `LogisticRegression` object `logreg` and `fit` the training data."
   ]
  },
  {
   "cell_type": "code",
   "execution_count": 79,
   "metadata": {},
   "outputs": [
    {
     "data": {
      "text/plain": [
       "LogisticRegression(C=100000.0, class_weight=None, dual=False,\n",
       "          fit_intercept=True, intercept_scaling=1, max_iter=100,\n",
       "          multi_class='ovr', n_jobs=1, penalty='l2', random_state=None,\n",
       "          solver='liblinear', tol=0.0001, verbose=0, warm_start=False)"
      ]
     },
     "execution_count": 79,
     "metadata": {},
     "output_type": "execute_result"
    }
   ],
   "source": [
    "# TODO\n",
    "logreg = linear_model.LogisticRegression(C=1e5)\n",
    "logreg.fit(Xs, y)"
   ]
  },
  {
   "cell_type": "markdown",
   "metadata": {},
   "source": [
    "Measure the accuracy of the classifer.  That is, use the `logreg.predict` function to predict labels `yhat` and measure the fraction of time that the predictions match the true labels.  Below, we will properly measure the accuracy on cross-validation data."
   ]
  },
  {
   "cell_type": "code",
   "execution_count": 80,
   "metadata": {},
   "outputs": [
    {
     "name": "stdout",
     "output_type": "stream",
     "text": [
      "Accuracy on training data = 1.000000\n"
     ]
    }
   ],
   "source": [
    "# TODO\n",
    "yhat = logreg.predict(Xs)\n",
    "acc = np.mean(yhat == y)\n",
    "print(\"Accuracy on training data = %f\" % acc)"
   ]
  },
  {
   "cell_type": "markdown",
   "metadata": {},
   "source": [
    "## Interpreting the weight vector"
   ]
  },
  {
   "cell_type": "markdown",
   "metadata": {},
   "source": [
    "Create a stem plot of the coefficients, `W` in the logistic regression model.  You can get the coefficients from `logreg.coef_`, but you will need to reshape this to a 1D array.  "
   ]
  },
  {
   "cell_type": "code",
   "execution_count": 63,
   "metadata": {},
   "outputs": [
    {
     "name": "stdout",
     "output_type": "stream",
     "text": [
      "[  16.76135724  100.78769901   12.43390757  -28.41889476   -3.13661177\n",
      "    8.31686459    4.48339598   -7.23332112   16.44125793  -29.52483617\n",
      "  -16.10991204   11.65602682   29.69027298   -9.21647777   -9.69224115\n",
      "    7.65403073    4.70974599  -14.43352567  -27.44049414   11.3944864\n",
      "  -67.05273386  -19.22542662  -18.40367014  -45.69826893  -59.98744224\n",
      "   17.8109068     2.09228142   11.87741955   20.10203784    1.27185231\n",
      "   25.31128988    4.95261388   22.06829921  -16.01102568    0.68655865\n",
      "    3.73202037    9.00451197  -23.37414069   -5.20686433   -7.65245573\n",
      "   -6.53590684   41.01296015    4.79735591   12.91835668   13.10267379\n",
      "   13.32555267  -10.75292377    4.18546144    2.24042038    8.56269001\n",
      "    9.7144092     0.26439961  -13.92265794   -5.82087674   15.55343684\n",
      "   -3.86288711    4.90784329   -8.94666162  -21.18951067    1.38576505\n",
      "  -11.14203398   12.39700772   -7.57901984   18.22546039    0.8688318\n",
      "    4.09998185   -4.9507163   -17.72662673    3.93749257    8.30648489\n",
      "   -5.82087674    0.39376139  -13.16307908  -10.18088836    4.55877818\n",
      "   -3.92700762   16.97173595]\n"
     ]
    }
   ],
   "source": [
    "# TODO\n",
    "W = logreg.coef_[0]"
   ]
  },
  {
   "cell_type": "markdown",
   "metadata": {},
   "source": [
    "You should see that `W[i]` is very large for a few components `i`.  These are the genes that are likely to be most involved in Down's Syndrome.  Although, we do not discuss it in this class, there are ways to force the logistic regression to return a sparse vector `W`.  \n",
    "\n",
    "Find the names of the genes for two components `i` where the magnitude of `W[i]` is largest.  "
   ]
  },
  {
   "cell_type": "code",
   "execution_count": 82,
   "metadata": {},
   "outputs": [
    {
     "name": "stdout",
     "output_type": "stream",
     "text": [
      "Index(['ITSN1_N', 'TIAM1_N'], dtype='object')\n"
     ]
    }
   ],
   "source": [
    "# TODO\n",
    "i = np.argsort(-W)[0:2]\n",
    "print(df1.columns[i])"
   ]
  },
  {
   "cell_type": "markdown",
   "metadata": {},
   "source": [
    "## Cross Validation\n",
    "\n",
    "The above meaured the accuracy on the training data.  It is more accurate to measure the accuracy on the test data.  Perform 10-fold cross validation and measure the average precision, recall and f1-score.  Note, that in performing the cross-validation, you will want to randomly permute the test and training sets using the `shuffle` option.  In this data set, all the samples from each class are bunched together, so shuffling is essential.  Print the mean precision, recall and f1-score and error rate across all the folds."
   ]
  },
  {
   "cell_type": "code",
   "execution_count": 84,
   "metadata": {},
   "outputs": [
    {
     "name": "stdout",
     "output_type": "stream",
     "text": [
      "Precision = 0.9521, SE=0.0093\n",
      "Recall =    0.9503, SE=0.0092\n",
      "f1 =        0.9509, SE=0.0073\n",
      "Accuracy =  0.9546, SE=0.0062\n"
     ]
    }
   ],
   "source": [
    "# TODO\n",
    "from sklearn.model_selection import KFold\n",
    "from sklearn.metrics import precision_recall_fscore_support\n",
    "nfold = 10\n",
    "kf = KFold(n_splits=nfold, shuffle = True)\n",
    "prec = []\n",
    "rec = []\n",
    "f1 = []\n",
    "acc = []\n",
    "for train, test in kf.split(Xs):\n",
    "    Xtr = Xs[train,:]\n",
    "    ytr = y[train]\n",
    "    Xts = Xs[test,:]\n",
    "    yts = y[test]\n",
    "    \n",
    "    #fit a model\n",
    "    logreg.fit(Xtr, ytr)\n",
    "    yhat = logreg.predict(Xts)\n",
    "    \n",
    "    #measure performance\n",
    "    preci, reci, f1i, _ = precision_recall_fscore_support(yts, yhat, average='binary')\n",
    "    prec.append(preci)\n",
    "    rec.append(reci)\n",
    "    f1.append(f1i)\n",
    "    acci = np.mean(yhat == yts)\n",
    "    acc.append(acci)\n",
    "    \n",
    "#take average values of the metrics\n",
    "precm = np.mean(prec)\n",
    "recm = np.mean(rec)\n",
    "f1m = np.mean(f1)\n",
    "accm = np.mean(acc)\n",
    "\n",
    "# Compute the standard errors\n",
    "prec_se = np.std(prec)/np.sqrt(nfold-1)\n",
    "rec_se = np.std(rec)/np.sqrt(nfold-1)\n",
    "f1_se = np.std(f1)/np.sqrt(nfold-1)\n",
    "acc_se = np.std(acc)/np.sqrt(nfold-1)\n",
    "\n",
    "print('Precision = {0:.4f}, SE={1:.4f}'.format(precm,prec_se))\n",
    "print('Recall =    {0:.4f}, SE={1:.4f}'.format(recm, rec_se))\n",
    "print('f1 =        {0:.4f}, SE={1:.4f}'.format(f1m, f1_se))\n",
    "print('Accuracy =  {0:.4f}, SE={1:.4f}'.format(accm, acc_se))"
   ]
  },
  {
   "cell_type": "markdown",
   "metadata": {},
   "source": [
    "## Multi-Class Classification\n",
    "\n",
    "Now use the response variable in `df1['class']`.  This has 8 possible classes.  Use the `np.unique` funtion as before to convert this to a vector `y` with values 0 to 7."
   ]
  },
  {
   "cell_type": "code",
   "execution_count": 91,
   "metadata": {
    "collapsed": true
   },
   "outputs": [],
   "source": [
    "# TODO\n",
    "u, indices = np.unique(df1['class'].values, return_inverse = True)\n",
    "y2 = indices"
   ]
  },
  {
   "cell_type": "markdown",
   "metadata": {},
   "source": [
    "Fit a multi-class logistic model by creating a `LogisticRegression` object, `logreg` and then calling the `logreg.fit` method."
   ]
  },
  {
   "cell_type": "code",
   "execution_count": 96,
   "metadata": {},
   "outputs": [
    {
     "data": {
      "text/plain": [
       "LogisticRegression(C=100000.0, class_weight=None, dual=False,\n",
       "          fit_intercept=True, intercept_scaling=1, max_iter=100,\n",
       "          multi_class='multinomial', n_jobs=1, penalty='l2',\n",
       "          random_state=None, solver='newton-cg', tol=0.0001, verbose=0,\n",
       "          warm_start=False)"
      ]
     },
     "execution_count": 96,
     "metadata": {},
     "output_type": "execute_result"
    }
   ],
   "source": [
    "# TODO\n",
    "logreg2 = linear_model.LogisticRegression(multi_class='multinomial',\n",
    "                                          solver='newton-cg',C=1e5)\n",
    "logreg2.fit(Xs, y)"
   ]
  },
  {
   "cell_type": "markdown",
   "metadata": {},
   "source": [
    "Measure the accuracy on the training data."
   ]
  },
  {
   "cell_type": "code",
   "execution_count": 99,
   "metadata": {},
   "outputs": [
    {
     "name": "stdout",
     "output_type": "stream",
     "text": [
      "Accuracy on training data = 1.000000\n"
     ]
    }
   ],
   "source": [
    "# TODO\n",
    "yhat2 = logreg2.predict(Xs)\n",
    "acc = np.mean(yhat2==y2)\n",
    "print(\"Accuracy on training data = %f\" % acc)"
   ]
  },
  {
   "cell_type": "markdown",
   "metadata": {},
   "source": [
    "Now perform 10-fold cross validation, and measure the confusion matrix `C` on the test data in each fold. You can use the `confustion_matrix` method in the `sklearn` package.  Add the confusion matrix counts across all folds and then normalize the rows of the confusion matrix so that they sum to one.  Thus, each element `C[i,j]` will represent the fraction of samples where `yhat==j` given `ytrue==i`.  Print the confusion matrix.  You can use the command\n",
    "\n",
    "    print(np.array_str(C, precision=4, suppress_small=True))\n",
    "    \n",
    "to create a nicely formatted print.  Also print the overall mean and SE of the test error rate across the folds."
   ]
  },
  {
   "cell_type": "code",
   "execution_count": 131,
   "metadata": {},
   "outputs": [
    {
     "name": "stdout",
     "output_type": "stream",
     "text": [
      "[[ 0.9524  0.      0.      0.      0.0476  0.      0.      0.    ]\n",
      " [ 0.      1.      0.      0.      0.      0.      0.      0.    ]\n",
      " [ 0.      0.      1.      0.      0.      0.      0.      0.    ]\n",
      " [ 0.      0.      0.      1.      0.      0.      0.      0.    ]\n",
      " [ 0.      0.      0.      0.      1.      0.      0.      0.    ]\n",
      " [ 0.      0.      0.      0.      0.      1.      0.      0.    ]\n",
      " [ 0.      0.      0.      0.      0.      0.      1.      0.    ]\n",
      " [ 0.      0.      0.      0.      0.      0.      0.      1.    ]]\n",
      "[[ 1.  0.  0.  0.  0.  0.  0.  0.]\n",
      " [ 0.  1.  0.  0.  0.  0.  0.  0.]\n",
      " [ 0.  0.  1.  0.  0.  0.  0.  0.]\n",
      " [ 0.  0.  0.  1.  0.  0.  0.  0.]\n",
      " [ 0.  0.  0.  0.  1.  0.  0.  0.]\n",
      " [ 0.  0.  0.  0.  0.  1.  0.  0.]\n",
      " [ 0.  0.  0.  0.  0.  0.  1.  0.]\n",
      " [ 0.  0.  0.  0.  0.  0.  0.  1.]]\n",
      "[[ 1.  0.  0.  0.  0.  0.  0.  0.]\n",
      " [ 0.  1.  0.  0.  0.  0.  0.  0.]\n",
      " [ 0.  0.  1.  0.  0.  0.  0.  0.]\n",
      " [ 0.  0.  0.  1.  0.  0.  0.  0.]\n",
      " [ 0.  0.  0.  0.  1.  0.  0.  0.]\n",
      " [ 0.  0.  0.  0.  0.  1.  0.  0.]\n",
      " [ 0.  0.  0.  0.  0.  0.  1.  0.]\n",
      " [ 0.  0.  0.  0.  0.  0.  0.  1.]]\n",
      "[[ 1.  0.  0.  0.  0.  0.  0.  0.]\n",
      " [ 0.  1.  0.  0.  0.  0.  0.  0.]\n",
      " [ 0.  0.  1.  0.  0.  0.  0.  0.]\n",
      " [ 0.  0.  0.  1.  0.  0.  0.  0.]\n",
      " [ 0.  0.  0.  0.  1.  0.  0.  0.]\n",
      " [ 0.  0.  0.  0.  0.  1.  0.  0.]\n",
      " [ 0.  0.  0.  0.  0.  0.  1.  0.]\n",
      " [ 0.  0.  0.  0.  0.  0.  0.  1.]]\n",
      "[[ 0.9091  0.0909  0.      0.      0.      0.      0.      0.    ]\n",
      " [ 0.      1.      0.      0.      0.      0.      0.      0.    ]\n",
      " [ 0.      0.      1.      0.      0.      0.      0.      0.    ]\n",
      " [ 0.      0.      0.      1.      0.      0.      0.      0.    ]\n",
      " [ 0.      0.      0.      0.      1.      0.      0.      0.    ]\n",
      " [ 0.      0.      0.      0.      0.      1.      0.      0.    ]\n",
      " [ 0.      0.      0.      0.      0.      0.      1.      0.    ]\n",
      " [ 0.      0.      0.      0.      0.      0.      0.      1.    ]]\n",
      "[[ 1.  0.  0.  0.  0.  0.  0.  0.]\n",
      " [ 0.  1.  0.  0.  0.  0.  0.  0.]\n",
      " [ 0.  0.  1.  0.  0.  0.  0.  0.]\n",
      " [ 0.  0.  0.  1.  0.  0.  0.  0.]\n",
      " [ 0.  0.  0.  0.  1.  0.  0.  0.]\n",
      " [ 0.  0.  0.  0.  0.  1.  0.  0.]\n",
      " [ 0.  0.  0.  0.  0.  0.  1.  0.]\n",
      " [ 0.  0.  0.  0.  0.  0.  0.  1.]]\n",
      "[[ 1.      0.      0.      0.      0.      0.      0.      0.    ]\n",
      " [ 0.      1.      0.      0.      0.      0.      0.      0.    ]\n",
      " [ 0.      0.      1.      0.      0.      0.      0.      0.    ]\n",
      " [ 0.0714  0.      0.      0.9286  0.      0.      0.      0.    ]\n",
      " [ 0.      0.      0.      0.      1.      0.      0.      0.    ]\n",
      " [ 0.      0.      0.      0.      0.      1.      0.      0.    ]\n",
      " [ 0.      0.      0.      0.      0.      0.      1.      0.    ]\n",
      " [ 0.      0.      0.      0.      0.      0.      0.      1.    ]]\n",
      "[[ 1.  0.  0.  0.  0.  0.  0.  0.]\n",
      " [ 0.  1.  0.  0.  0.  0.  0.  0.]\n",
      " [ 0.  0.  1.  0.  0.  0.  0.  0.]\n",
      " [ 0.  0.  0.  1.  0.  0.  0.  0.]\n",
      " [ 0.  0.  0.  0.  1.  0.  0.  0.]\n",
      " [ 0.  0.  0.  0.  0.  1.  0.  0.]\n",
      " [ 0.  0.  0.  0.  0.  0.  1.  0.]\n",
      " [ 0.  0.  0.  0.  0.  0.  0.  1.]]\n",
      "[[ 1.  0.  0.  0.  0.  0.  0.  0.]\n",
      " [ 0.  1.  0.  0.  0.  0.  0.  0.]\n",
      " [ 0.  0.  1.  0.  0.  0.  0.  0.]\n",
      " [ 0.  0.  0.  1.  0.  0.  0.  0.]\n",
      " [ 0.  0.  0.  0.  1.  0.  0.  0.]\n",
      " [ 0.  0.  0.  0.  0.  1.  0.  0.]\n",
      " [ 0.  0.  0.  0.  0.  0.  1.  0.]\n",
      " [ 0.  0.  0.  0.  0.  0.  0.  1.]]\n",
      "[[ 1.      0.      0.      0.      0.      0.      0.      0.    ]\n",
      " [ 0.      0.8824  0.      0.      0.1176  0.      0.      0.    ]\n",
      " [ 0.      0.      1.      0.      0.      0.      0.      0.    ]\n",
      " [ 0.0714  0.      0.      0.9286  0.      0.      0.      0.    ]\n",
      " [ 0.      0.      0.      0.      1.      0.      0.      0.    ]\n",
      " [ 0.      0.      0.      0.      0.      1.      0.      0.    ]\n",
      " [ 0.      0.      0.      0.      0.      0.      1.      0.    ]\n",
      " [ 0.      0.      0.      0.      0.      0.      0.      1.    ]]\n",
      "Precision = 0.9718, SE=0.0034\n",
      "Recall =    0.9727, SE=0.0026\n",
      "f1 =        0.9722, SE=0.0004\n",
      "Accuracy =  0.9944, SE=0.0028\n"
     ]
    }
   ],
   "source": [
    "from sklearn.metrics import confusion_matrix\n",
    "from sklearn.model_selection import KFold\n",
    "\n",
    "# TODO\n",
    "nfold2 = 10\n",
    "kf2 = KFold(n_splits=nfold2, shuffle = True)\n",
    "prec2 = []\n",
    "rec2 = []\n",
    "f12 = []\n",
    "acc2 = []\n",
    "for train, test in kf.split(Xs):\n",
    "    Xtr2 = Xs[train,:]\n",
    "    ytr2 = y[train]\n",
    "    Xts2 = Xs[test,:]\n",
    "    yts2 = y[test]\n",
    "    \n",
    "    #fit a model\n",
    "    logreg2.fit(Xtr2, ytr2)\n",
    "    yhat2 = logreg2.predict(Xts2)\n",
    "    \n",
    "    #confusion matrix\n",
    "    c = confusion_matrix(yts2, yhat2)\n",
    "    csum = np.sum(c, axis=1)\n",
    "    for i in range(len(c)):\n",
    "        for j in range(len(c[0])):\n",
    "            c2[i][j] = c[i][j] / csum[i]\n",
    "    print(np.array_str(c2, precision=4, suppress_small=True))\n",
    "    \n",
    "    #measure performance\n",
    "    preci, reci, f1i, _ = precision_recall_fscore_support(yts, yhat)\n",
    "    prec2.append(preci)\n",
    "    rec2.append(reci)\n",
    "    f12.append(f1i)\n",
    "    acci = np.mean(yhat2 == yts2)\n",
    "    acc2.append(acci)\n",
    "    \n",
    "#take average values of the metrics\n",
    "precm2 = np.mean(prec2)\n",
    "recm2 = np.mean(rec2)\n",
    "f1m2 = np.mean(f12)\n",
    "accm2 = np.mean(acc2)\n",
    "\n",
    "# Compute the standard errors\n",
    "prec_se2 = np.std(prec2)/np.sqrt(nfold2-1)\n",
    "rec_se2 = np.std(rec2)/np.sqrt(nfold2-1)\n",
    "f1_se2 = np.std(f12)/np.sqrt(nfold2-1)\n",
    "acc_se2 = np.std(acc2)/np.sqrt(nfold2-1)\n",
    "\n",
    "print('Precision = {0:.4f}, SE={1:.4f}'.format(precm2,prec_se2))\n",
    "print('Recall =    {0:.4f}, SE={1:.4f}'.format(recm2, rec_se2))\n",
    "print('f1 =        {0:.4f}, SE={1:.4f}'.format(f1m2, f1_se2))\n",
    "print('Accuracy =  {0:.4f}, SE={1:.4f}'.format(accm2, acc_se2))"
   ]
  },
  {
   "cell_type": "markdown",
   "metadata": {},
   "source": [
    "Re-run the logistic regression on the entire training data and get the weight coefficients.  This should be a 8 x 77 matrix.  Create a stem plot of the first row of this matrix to see the coefficients on each of the genes."
   ]
  },
  {
   "cell_type": "code",
   "execution_count": 134,
   "metadata": {},
   "outputs": [
    {
     "name": "stdout",
     "output_type": "stream",
     "text": [
      "[[  3.22783797e-01  -2.47291633e+00   2.18147440e+00  -6.95209532e-02\n",
      "    1.79228806e+00  -8.27025773e-02   1.89519464e+00  -4.46053207e+00\n",
      "   -5.55746235e+00   1.95439277e+00   1.42246687e+00   3.15707743e+00\n",
      "    2.59156434e+00   5.18799869e-01   2.21299023e+00  -1.69816733e+00\n",
      "   -4.84645449e+00  -2.97358780e+00   1.65111170e+00   2.40314820e+00\n",
      "    4.45736744e-01  -5.02199346e-01  -1.21017711e+00   1.97860628e+00\n",
      "    2.60153253e+00   5.04489556e-01   3.22652663e+00  -1.90288638e+00\n",
      "   -1.22330944e+00  -4.36298143e-01  -3.19781451e+00  -1.01695002e+00\n",
      "   -3.59628551e+00   2.90658667e+00  -1.94256064e+00  -1.45714548e-01\n",
      "   -1.60645542e+00   1.89953980e+00   5.46231457e-01   2.12130808e+00\n",
      "    4.09368590e-01  -2.77146263e+00  -1.00593988e+00  -1.32460883e+00\n",
      "   -2.09454268e+00   5.29771730e-01  -2.61341084e-01   1.30296035e+00\n",
      "   -5.81498111e-01  -5.66958090e-01   6.17622083e-02   2.03731451e+00\n",
      "   -3.53078947e+00   8.50628898e-01  -4.19663109e-01   4.02250441e+00\n",
      "   -5.04980609e-01  -5.29025300e-02   3.21895097e+00   3.44066867e-01\n",
      "    2.34213033e+00   6.43502780e-01  -2.96113429e+00  -2.78430228e+00\n",
      "   -1.13486370e+00  -1.07190213e+00   3.35950536e+00   1.82989617e+00\n",
      "    7.97168168e-01  -5.56006112e-01   8.50628898e-01  -2.64445011e+00\n",
      "   -4.53958359e-01  -4.45650982e-01  -1.62688995e+00  -1.48758502e+00\n",
      "   -1.17057949e+00]\n",
      " [  3.94816764e-01   5.77638127e-01  -2.00682238e+00   5.91324623e-01\n",
      "   -4.01127216e-01   2.84266654e-01  -3.91106261e+00   1.53929051e-01\n",
      "    2.06071988e+00   1.90873135e-01   1.75181124e+00  -5.37967316e+00\n",
      "   -4.78618280e-01  -1.30064403e+00  -9.92840441e-01  -5.39434727e-01\n",
      "    1.60662138e+00   3.92770711e+00   1.56698297e-01  -2.91109532e+00\n",
      "    2.84750436e+00   5.01633324e+00  -2.03071082e-01  -6.59298463e-01\n",
      "    2.72910675e+00   1.90940457e+00  -1.83092336e+00   1.27880551e+00\n",
      "   -3.78803907e+00   2.96910371e+00  -6.73002513e+00   1.22206148e+00\n",
      "    5.91112353e-01  -1.93473060e+00  -2.21804387e-02   4.09042059e-01\n",
      "   -7.71221541e-01   5.53741154e-01   1.49433058e+00   3.17517907e+00\n",
      "    3.12891315e+00  -2.23772005e-01   4.49055380e-02   1.21743583e+00\n",
      "    9.94130773e-01   1.50197822e+00   1.65550570e+00   1.62651759e+00\n",
      "    8.51657160e-01   1.05039383e+00  -1.25432892e-01  -3.33723916e+00\n",
      "    2.73010197e+00  -3.95915709e-01  -1.34035653e+00  -5.75369480e+00\n",
      "   -1.87235229e+00   3.10940676e+00   1.62859360e+00  -5.46027501e-01\n",
      "   -4.85861497e+00   7.02984244e-01   6.12582791e+00  -3.79858780e-02\n",
      "    1.35033442e+00  -3.87416499e+00  -2.41434029e+00  -3.50539736e-01\n",
      "   -1.29402405e+00  -1.44604169e+00  -3.95915709e-01   2.37363517e+00\n",
      "    1.06078375e+00   2.39417673e+00   1.42572923e-02   7.16295236e-01\n",
      "    1.12194755e+00]\n",
      " [ -6.20013346e-01  -1.63621585e+00  -3.65485376e-01  -1.40870806e+00\n",
      "   -1.59990688e+00  -1.09117677e+00   1.52003000e+00   2.58176844e+00\n",
      "    1.29636421e+00   2.45447247e-01   5.21850871e-01   6.31398903e-01\n",
      "   -9.03647595e-01   2.88392810e-01   6.47213757e-01   4.60615102e+00\n",
      "   -8.70357370e-01  -1.64262420e+00   1.11929310e+00  -2.28660658e+00\n",
      "   -2.83643892e-01  -1.66351116e-01   8.27079766e-01   7.33409369e-01\n",
      "   -3.38738791e-01   1.91564236e+00  -9.08516708e-01   1.64847786e-01\n",
      "   -1.75298329e+00   5.30846106e-01  -3.83750460e+00  -7.85847185e-01\n",
      "   -9.81455781e-01   2.46084804e-01   2.29461107e+00   1.50799289e+00\n",
      "    4.51790293e-01   2.04815425e+00  -1.15482403e-01   9.31297402e-01\n",
      "    3.59478436e-02  -2.25681387e+00   1.55855537e+00   8.02961976e-01\n",
      "    1.81855114e+00  -2.15460910e+00   7.63773554e-01  -1.98717891e+00\n",
      "   -1.53293077e+00  -3.26254430e+00  -7.58604633e-01   3.86100001e-02\n",
      "    6.49129589e-01   1.76405220e-01  -1.22781401e+00   3.89151461e-01\n",
      "   -5.09131458e-01  -8.72145432e-01   1.78815459e+00   8.54270303e-01\n",
      "    2.52038752e+00  -3.07622137e+00  -2.43884575e+00  -1.29127310e-01\n",
      "   -4.41591950e-01   1.88906677e+00   4.99063276e-01  -2.80793807e-01\n",
      "   -5.77906504e-01  -2.67141945e-01   1.76405220e-01   5.80651524e-01\n",
      "    2.62150972e+00   1.92346012e+00   8.61484566e-01  -3.75328969e-01\n",
      "   -1.31906234e+00]\n",
      " [ -1.70483567e+00  -3.42462763e+00   1.58358101e+00   2.01646271e+00\n",
      "    1.90594006e+00  -7.39553802e-01  -9.41774581e-01  -8.43156984e-01\n",
      "   -1.34136443e+00  -4.34419568e-01  -1.84361139e+00  -6.21267131e-01\n",
      "    2.97935221e-01   8.17512597e-01   2.31563095e+00  -1.41623747e+00\n",
      "    1.09348260e+00   1.20453774e+00  -2.85477253e-01   2.60117201e+00\n",
      "   -6.66814475e-01   3.60823024e-01   1.26684064e+00   3.94642725e-01\n",
      "   -4.33689598e-01  -3.29695453e+00   3.65474949e-01   2.70490238e-01\n",
      "    1.19614143e+00  -3.83825101e-01  -1.92591509e+00   9.20787051e-01\n",
      "    2.60939856e+00   3.05879888e+00   1.46528038e+00  -1.28245453e-01\n",
      "   -2.51988312e+00  -4.57339980e-01   1.19248521e+00  -4.73450133e+00\n",
      "   -5.58604588e-01  -2.66856872e+00   1.32054383e+00  -1.77708222e+00\n",
      "   -3.10871018e+00  -6.30720337e-01  -1.53339522e+00  -1.83551092e+00\n",
      "   -2.42604596e+00   1.78682563e+00   9.84031531e-01   1.25555644e+00\n",
      "    4.37787810e-01   8.97618429e-01   1.28908380e-01   1.00765816e+00\n",
      "    1.18450749e+00  -7.60539622e-01   8.22807951e-01   9.66058204e-01\n",
      "    2.26169398e+00   1.13262969e+00  -2.08024608e+00  -8.51566242e-01\n",
      "    8.66419311e-02  -1.19798494e+00  -4.31739132e-01   1.16727733e+00\n",
      "   -1.24542946e-01  -6.03282312e-01   8.97618429e-01   2.79703206e-01\n",
      "    2.42895535e+00  -8.20443716e-01  -4.68889947e-01  -8.31047073e-03\n",
      "    9.11212707e-01]\n",
      " [  2.47989820e+00   3.14710573e+00   1.74958193e+00  -4.77047684e-01\n",
      "    8.36210005e-01  -1.35338655e+00   1.71443147e+00   3.55172957e+00\n",
      "    1.29585413e+00  -1.53077557e+00   1.26604746e+00  -7.38380984e-01\n",
      "   -1.88205295e-01  -5.56651793e-01  -8.47486788e-01   4.12571101e-01\n",
      "    1.45595651e+00   1.58415329e+00   5.67703765e-01  -2.18578475e+00\n",
      "    7.75529511e-01  -5.93422177e+00   8.66009530e-01  -6.38324262e-01\n",
      "   -4.02279884e+00  -1.75336490e+00   1.36411355e+00  -4.71075088e-01\n",
      "    3.18701313e+00  -1.16177846e+00   6.39778100e+00  -5.47835948e-01\n",
      "   -2.37017564e+00  -2.20119627e+00   4.76223007e-01  -2.39835822e+00\n",
      "    2.84749646e+00   7.43508620e-01  -9.41593049e-01  -8.27900283e-01\n",
      "   -3.58678954e+00   1.07002412e+00   7.11563241e-01  -1.51612622e+00\n",
      "    1.74753054e+00   1.94163884e+00  -4.43318086e+00  -1.92601398e+00\n",
      "   -2.77789576e-02   1.18665570e+00  -4.88825480e-01  -1.08449471e+00\n",
      "   -3.73114899e-01  -1.16280982e+00  -8.27966124e-01   2.79537679e-01\n",
      "   -2.06246819e+00  -9.97520613e-01  -9.35504973e-01   9.00442887e-01\n",
      "    2.73849785e+00   2.81219055e-01  -3.77393091e+00   2.63490202e+00\n",
      "   -1.19881639e+00  -5.38869951e-01  -1.46626972e-01  -1.72788584e+00\n",
      "    9.42833469e-01   2.23818733e+00  -1.16280982e+00   1.14193309e+00\n",
      "   -3.85398001e-01  -1.04210507e+00   1.37403766e+00  -1.33423450e+00\n",
      "    5.46224209e+00]\n",
      " [  4.21663786e-01   2.11974781e+00  -2.48298749e+00  -6.57748420e-01\n",
      "   -2.08731753e+00  -4.03154405e-01  -1.16648620e+00  -3.26843955e+00\n",
      "    1.15065189e+00   1.47837639e+00   2.67214870e-01   2.52708022e+00\n",
      "    3.98248493e-01  -8.53128185e-01  -7.90653713e-01   1.06631183e+00\n",
      "    1.47846586e+00   1.89851077e+00  -1.09866572e+00   1.41194105e-01\n",
      "   -3.55429535e-01   1.04227552e+00  -1.18892284e+00  -1.72149025e-01\n",
      "    7.02520206e-01   1.59028701e+00  -1.20051805e+00  -1.05879820e+00\n",
      "    1.43042353e+00  -1.10846281e+00   3.97397854e+00  -2.00242225e+00\n",
      "   -3.23539421e-01  -4.91472985e-01  -2.07312246e+00   1.86726715e-01\n",
      "    9.29744690e-01  -2.99005569e+00  -2.35933958e+00  -1.15817428e-01\n",
      "   -1.31553486e+00   1.78630010e+00  -1.02469484e+00   3.98629756e+00\n",
      "    1.24465676e+00  -1.34155166e+00   1.39240796e+00   9.78204170e-01\n",
      "    3.15714183e+00   1.93848562e-01  -8.79334980e-01   1.27153008e-01\n",
      "   -6.18776337e-01  -1.35986920e+00   9.28876391e-01  -1.04181236e+00\n",
      "    1.47365973e+00   1.74639481e+00  -4.45151997e+00  -3.34055932e+00\n",
      "   -2.13234363e+00   2.38856946e-01   9.02107901e-01   3.93539422e-01\n",
      "    4.77396878e-01   2.44347139e+00  -2.33037085e+00  -1.02502713e-01\n",
      "    3.55921182e-02   3.00712581e-01  -1.35986920e+00  -1.01739053e+00\n",
      "   -1.41197853e-01  -1.85611960e+00  -2.96493265e-01   1.46886099e+00\n",
      "    8.70769041e-02]\n",
      " [ -7.89537058e-02   2.41454424e+00  -9.52596153e-01   1.78663092e-01\n",
      "    8.49081769e-02   1.74024800e+00   1.37129397e+00   2.83927068e-01\n",
      "   -5.47434818e-01  -2.72326007e-01  -1.25470174e+00   6.85819140e-01\n",
      "   -8.05471072e-01   4.59142838e-02  -1.87574743e+00  -1.06391480e+00\n",
      "    1.57618504e+00  -1.88077653e+00  -1.64436556e+00   1.48583621e+00\n",
      "   -6.84932638e-01   1.84288461e+00  -4.12823047e-01  -1.98564402e+00\n",
      "   -2.28820018e+00  -3.50298156e-01   7.03520150e-01   5.63169789e-01\n",
      "    5.88009577e-01   7.67629892e-02   4.20992847e+00   5.07103583e-02\n",
      "    2.23366141e+00  -1.61715494e+00   2.49531600e-01   1.25520837e+00\n",
      "    1.42447659e+00  -1.58812342e+00   3.81428831e-01  -8.40590681e-01\n",
      "    8.01587529e-01   2.28469436e+00  -2.94290707e+00  -4.22208909e-01\n",
      "    5.18835146e-01  -1.50912623e+00  -1.11563537e+00   2.02261118e-01\n",
      "   -4.81420224e-01   5.99442282e-01   2.35421829e+00  -1.15304354e-01\n",
      "    7.63087031e-01   1.52547387e+00   2.75996309e+00   4.55915797e-01\n",
      "    7.13984499e-01  -1.17316152e+00  -6.98675724e-01   1.72939586e-01\n",
      "   -1.56793775e+00  -2.12098625e+00   3.37239732e+00   1.42104577e+00\n",
      "    1.92492115e+00   1.62930124e+00  -5.09448442e-01  -2.48745330e-01\n",
      "   -9.85851215e-01   1.23240260e-01   1.52547387e+00  -5.58030072e-01\n",
      "   -3.74109258e+00   2.75284061e-01   9.84680339e-01  -2.70814658e-01\n",
      "   -3.25724159e+00]\n",
      " [ -1.21535983e+00  -7.25276108e-01   2.93254050e-01  -1.73425308e-01\n",
      "   -5.30994681e-01   1.64545945e+00  -4.81626678e-01   2.00077447e+00\n",
      "    1.64267148e+00  -1.63156840e+00  -2.13107818e+00  -2.62054421e-01\n",
      "   -9.11805812e-01   1.03980444e+00  -6.69106564e-01  -1.36727961e+00\n",
      "   -1.49389953e+00  -2.11792038e+00  -4.66298325e-01   7.52136130e-01\n",
      "   -2.07795008e+00  -1.65954416e+00   5.50641464e-02   3.48757399e-01\n",
      "    1.05026792e+00  -5.19205912e-01  -1.71967716e+00   1.15544634e+00\n",
      "    3.62744139e-01  -4.86348296e-01   1.10957132e+00   2.15949652e+00\n",
      "    1.83728403e+00   3.30844339e-02  -4.47782515e-01  -6.86651799e-01\n",
      "   -7.55947952e-01  -2.09424736e-01  -1.98061048e-01   2.91025178e-01\n",
      "    1.08511188e+00   2.77959864e+00   1.33797381e+00  -9.66669193e-01\n",
      "   -1.12045149e+00   1.66261854e+00   3.53186531e+00   1.63876058e+00\n",
      "    1.04087503e+00  -9.87663618e-01  -1.14781405e+00   1.07840426e+00\n",
      "   -5.74256951e-02  -5.31531689e-01  -1.94809092e-03   6.40739654e-01\n",
      "    1.57678084e+00  -9.99531848e-01  -1.37280644e+00   6.48808968e-01\n",
      "   -1.30381332e+00   2.19801489e+00   8.53823894e-01  -6.46505503e-01\n",
      "   -1.06402234e+00   7.21082605e-01   1.97395704e+00  -2.86706082e-01\n",
      "    1.20673096e+00   2.10331889e-01  -5.31531689e-01  -1.56052287e-01\n",
      "   -1.38960202e+00  -4.28601550e-01  -8.42186695e-01   1.29111740e+00\n",
      "   -1.83559583e+00]]\n"
     ]
    }
   ],
   "source": [
    "# TODO\n",
    "logreg3 = linear_model.LogisticRegression(multi_class='multinomial',\n",
    "                                          solver='newton-cg',C=1e5)\n",
    "logreg3.fit(Xs, y)\n",
    "coef = logreg3.coef_\n",
    "print(coef)"
   ]
  },
  {
   "cell_type": "markdown",
   "metadata": {
    "collapsed": true
   },
   "source": [
    "## L1-Regularization\n",
    "\n",
    "Graduate students only complete this section.\n",
    "\n",
    "In most genetic problems, only a limited number of the tested genes are likely influence any particular attribute.  Hence, we would expect that the weight coefficients in the logistic regression model should be sparse.  That is, they should be zero on any gene that plays no role in the particular attribute of interest.  Genetic analysis commonly imposes sparsity by adding an l1-penalty term.  Read the `sklearn` [documentation](http://scikit-learn.org/stable/modules/generated/sklearn.linear_model.LogisticRegression.html) on the `LogisticRegression` class to see how to set the l1-penalty and the inverse regularization strength, `C`.\n",
    "\n",
    "Using the model selection strategies from the [prostate cancer analysis demo](../model_sel/prostate.ipynb), use K-fold cross validation to select an appropriate inverse regularization strength.  \n",
    "* Use 10-fold cross validation \n",
    "* You should select around 20 values of `C`.  It is up to you find a good range.\n",
    "* Make appropriate plots and print out to display your results\n",
    "* How does the accuracy compare to the accuracy achieved without regularization."
   ]
  },
  {
   "cell_type": "code",
   "execution_count": 145,
   "metadata": {},
   "outputs": [
    {
     "ename": "ValueError",
     "evalue": "b'C <= 0'",
     "output_type": "error",
     "traceback": [
      "\u001b[0;31m---------------------------------------------------------------------------\u001b[0m",
      "\u001b[0;31mValueError\u001b[0m                                Traceback (most recent call last)",
      "\u001b[0;32m<ipython-input-145-9a81be4d76c6>\u001b[0m in \u001b[0;36m<module>\u001b[0;34m()\u001b[0m\n\u001b[1;32m     21\u001b[0m         \u001b[0mci\u001b[0m \u001b[0;34m=\u001b[0m \u001b[0mci\u001b[0m\u001b[0;34m.\u001b[0m\u001b[0mastype\u001b[0m\u001b[0;34m(\u001b[0m\u001b[0mfloat\u001b[0m\u001b[0;34m)\u001b[0m\u001b[0;34m\u001b[0m\u001b[0m\n\u001b[1;32m     22\u001b[0m         \u001b[0mlogreg3\u001b[0m \u001b[0;34m=\u001b[0m \u001b[0mlinear_model\u001b[0m\u001b[0;34m.\u001b[0m\u001b[0mLogisticRegression\u001b[0m\u001b[0;34m(\u001b[0m\u001b[0mpenalty\u001b[0m\u001b[0;34m=\u001b[0m\u001b[0;34m'l1'\u001b[0m\u001b[0;34m,\u001b[0m\u001b[0mC\u001b[0m\u001b[0;34m=\u001b[0m\u001b[0mci\u001b[0m\u001b[0;34m)\u001b[0m\u001b[0;34m\u001b[0m\u001b[0m\n\u001b[0;32m---> 23\u001b[0;31m         \u001b[0mlogreg3\u001b[0m\u001b[0;34m.\u001b[0m\u001b[0mfit\u001b[0m\u001b[0;34m(\u001b[0m\u001b[0mXtr3\u001b[0m\u001b[0;34m,\u001b[0m \u001b[0mytr3\u001b[0m\u001b[0;34m)\u001b[0m\u001b[0;34m\u001b[0m\u001b[0m\n\u001b[0m\u001b[1;32m     24\u001b[0m         \u001b[0myhat3\u001b[0m \u001b[0;34m=\u001b[0m \u001b[0mlogreg3\u001b[0m\u001b[0;34m.\u001b[0m\u001b[0mpredict\u001b[0m\u001b[0;34m(\u001b[0m\u001b[0mXts3\u001b[0m\u001b[0;34m)\u001b[0m\u001b[0;34m\u001b[0m\u001b[0m\n\u001b[1;32m     25\u001b[0m \u001b[0;34m\u001b[0m\u001b[0m\n",
      "\u001b[0;32m/Users/jennifer/anaconda/lib/python3.6/site-packages/sklearn/linear_model/logistic.py\u001b[0m in \u001b[0;36mfit\u001b[0;34m(self, X, y, sample_weight)\u001b[0m\n\u001b[1;32m   1184\u001b[0m                 \u001b[0mself\u001b[0m\u001b[0;34m.\u001b[0m\u001b[0mclass_weight\u001b[0m\u001b[0;34m,\u001b[0m \u001b[0mself\u001b[0m\u001b[0;34m.\u001b[0m\u001b[0mpenalty\u001b[0m\u001b[0;34m,\u001b[0m \u001b[0mself\u001b[0m\u001b[0;34m.\u001b[0m\u001b[0mdual\u001b[0m\u001b[0;34m,\u001b[0m \u001b[0mself\u001b[0m\u001b[0;34m.\u001b[0m\u001b[0mverbose\u001b[0m\u001b[0;34m,\u001b[0m\u001b[0;34m\u001b[0m\u001b[0m\n\u001b[1;32m   1185\u001b[0m                 \u001b[0mself\u001b[0m\u001b[0;34m.\u001b[0m\u001b[0mmax_iter\u001b[0m\u001b[0;34m,\u001b[0m \u001b[0mself\u001b[0m\u001b[0;34m.\u001b[0m\u001b[0mtol\u001b[0m\u001b[0;34m,\u001b[0m \u001b[0mself\u001b[0m\u001b[0;34m.\u001b[0m\u001b[0mrandom_state\u001b[0m\u001b[0;34m,\u001b[0m\u001b[0;34m\u001b[0m\u001b[0m\n\u001b[0;32m-> 1186\u001b[0;31m                 sample_weight=sample_weight)\n\u001b[0m\u001b[1;32m   1187\u001b[0m             \u001b[0mself\u001b[0m\u001b[0;34m.\u001b[0m\u001b[0mn_iter_\u001b[0m \u001b[0;34m=\u001b[0m \u001b[0mnp\u001b[0m\u001b[0;34m.\u001b[0m\u001b[0marray\u001b[0m\u001b[0;34m(\u001b[0m\u001b[0;34m[\u001b[0m\u001b[0mn_iter_\u001b[0m\u001b[0;34m]\u001b[0m\u001b[0;34m)\u001b[0m\u001b[0;34m\u001b[0m\u001b[0m\n\u001b[1;32m   1188\u001b[0m             \u001b[0;32mreturn\u001b[0m \u001b[0mself\u001b[0m\u001b[0;34m\u001b[0m\u001b[0m\n",
      "\u001b[0;32m/Users/jennifer/anaconda/lib/python3.6/site-packages/sklearn/svm/base.py\u001b[0m in \u001b[0;36m_fit_liblinear\u001b[0;34m(X, y, C, fit_intercept, intercept_scaling, class_weight, penalty, dual, verbose, max_iter, tol, random_state, multi_class, loss, epsilon, sample_weight)\u001b[0m\n\u001b[1;32m    910\u001b[0m         \u001b[0mX\u001b[0m\u001b[0;34m,\u001b[0m \u001b[0my_ind\u001b[0m\u001b[0;34m,\u001b[0m \u001b[0msp\u001b[0m\u001b[0;34m.\u001b[0m\u001b[0misspmatrix\u001b[0m\u001b[0;34m(\u001b[0m\u001b[0mX\u001b[0m\u001b[0;34m)\u001b[0m\u001b[0;34m,\u001b[0m \u001b[0msolver_type\u001b[0m\u001b[0;34m,\u001b[0m \u001b[0mtol\u001b[0m\u001b[0;34m,\u001b[0m \u001b[0mbias\u001b[0m\u001b[0;34m,\u001b[0m \u001b[0mC\u001b[0m\u001b[0;34m,\u001b[0m\u001b[0;34m\u001b[0m\u001b[0m\n\u001b[1;32m    911\u001b[0m         \u001b[0mclass_weight_\u001b[0m\u001b[0;34m,\u001b[0m \u001b[0mmax_iter\u001b[0m\u001b[0;34m,\u001b[0m \u001b[0mrnd\u001b[0m\u001b[0;34m.\u001b[0m\u001b[0mrandint\u001b[0m\u001b[0;34m(\u001b[0m\u001b[0mnp\u001b[0m\u001b[0;34m.\u001b[0m\u001b[0miinfo\u001b[0m\u001b[0;34m(\u001b[0m\u001b[0;34m'i'\u001b[0m\u001b[0;34m)\u001b[0m\u001b[0;34m.\u001b[0m\u001b[0mmax\u001b[0m\u001b[0;34m)\u001b[0m\u001b[0;34m,\u001b[0m\u001b[0;34m\u001b[0m\u001b[0m\n\u001b[0;32m--> 912\u001b[0;31m         epsilon, sample_weight)\n\u001b[0m\u001b[1;32m    913\u001b[0m     \u001b[0;31m# Regarding rnd.randint(..) in the above signature:\u001b[0m\u001b[0;34m\u001b[0m\u001b[0;34m\u001b[0m\u001b[0m\n\u001b[1;32m    914\u001b[0m     \u001b[0;31m# seed for srand in range [0..INT_MAX); due to limitations in Numpy\u001b[0m\u001b[0;34m\u001b[0m\u001b[0;34m\u001b[0m\u001b[0m\n",
      "\u001b[0;32msklearn/svm/liblinear.pyx\u001b[0m in \u001b[0;36msklearn.svm.liblinear.train_wrap (sklearn/svm/liblinear.c:2069)\u001b[0;34m()\u001b[0m\n",
      "\u001b[0;31mValueError\u001b[0m: b'C <= 0'"
     ]
    }
   ],
   "source": [
    "# TODO\n",
    "nfold3 = 10\n",
    "kf3 = KFold(n_splits=nfold3, shuffle = True)\n",
    "cchoice = np.arange(0, 200, 10)\n",
    "nd = len(cchoice)\n",
    "prec3 = np.zeros((nd, nfold3))\n",
    "rec3 = np.zeros((nd, nfold3))\n",
    "f13 = np.zeros((nd, nfold3))\n",
    "acc3 = np.zeros((nd, nfold3))\n",
    "cchoice = np.arange(0, 200, 10)\n",
    "for isplit, Ind in enumerate(kf.split(Xs)):\n",
    "    Itr, Its = Ind\n",
    "    Xtr3 = Xs[Itr]\n",
    "    ytr3 = y[Itr]\n",
    "    Xts3 = Xs[Its]\n",
    "    yts3 = y[Its]\n",
    "    \n",
    "    \n",
    "    for i, ci in enumerate(cchoice):  \n",
    "        #fit a model\n",
    "        logreg3 = linear_model.LogisticRegression(penalty='l1', multi_class='multinomial',\n",
    "                                          solver='saga',C=ci)\n",
    "        logreg3.fit(Xtr3, ytr3)\n",
    "        yhat3 = logreg3.predict(Xts3)\n",
    "    \n",
    "        #measure performance\n",
    "        preci, reci, f1i, _ = precision_recall_fscore_support(yts3, yhat3)\n",
    "        prec2[i, isplit] = preci\n",
    "        rec2[i, isplit] = reci\n",
    "        f12[i, isplit] = f1i\n",
    "        acci = np.mean(yhat2 == yts2)\n",
    "        acc2[i, isplit] = acci\n",
    "    \n",
    "#take average values of the metrics\n",
    "precm2 = np.mean(prec2, axis=1)\n",
    "recm2 = np.mean(rec2, axis=1)\n",
    "f1m2 = np.mean(f12, axis=1)\n",
    "accm2 = np.mean(acc2, axis=1)\n",
    "\n",
    "# Compute the standard errors\n",
    "prec_se3 = np.std(prec3, axis=1)/np.sqrt(nfold3-1)\n",
    "rec_se3 = np.std(rec3, axis=1)/np.sqrt(nfold3-1)\n",
    "f1_se3 = np.std(f13, axis=1)/np.sqrt(nfold3-1)\n",
    "acc_se3 = np.std(acc3, axis=1)/np.sqrt(nfold3-1)\n",
    "\n",
    "print('Precision = {0:.4f}, SE={1:.4f}'.format(precm3,prec_se3))\n",
    "print('Recall =    {0:.4f}, SE={1:.4f}'.format(recm3, rec_se3))\n",
    "print('f1 =        {0:.4f}, SE={1:.4f}'.format(f1m3, f1_se3))\n",
    "print('Accuracy =  {0:.4f}, SE={1:.4f}'.format(accm3, acc_se3))"
   ]
  },
  {
   "cell_type": "markdown",
   "metadata": {},
   "source": [
    "For the optimal `C`, fit the model on the entire training data with l1 regularization. Find the resulting weight matrix, `W_l1`.  Plot the first row of this weight matrix and compare it to the first row of the weight matrix without the regularization.  You should see that, with l1-regularization, the weight matrix is much more sparse and hence the roles of particular genes are more clearly visible."
   ]
  },
  {
   "cell_type": "code",
   "execution_count": 17,
   "metadata": {
    "collapsed": true
   },
   "outputs": [],
   "source": [
    "# TODO"
   ]
  },
  {
   "cell_type": "code",
   "execution_count": null,
   "metadata": {
    "collapsed": true
   },
   "outputs": [],
   "source": []
  }
 ],
 "metadata": {
  "anaconda-cloud": {},
  "kernelspec": {
   "display_name": "Python 3",
   "language": "python",
   "name": "python3"
  },
  "language_info": {
   "codemirror_mode": {
    "name": "ipython",
    "version": 3
   },
   "file_extension": ".py",
   "mimetype": "text/x-python",
   "name": "python",
   "nbconvert_exporter": "python",
   "pygments_lexer": "ipython3",
   "version": "3.6.1"
  }
 },
 "nbformat": 4,
 "nbformat_minor": 1
}
