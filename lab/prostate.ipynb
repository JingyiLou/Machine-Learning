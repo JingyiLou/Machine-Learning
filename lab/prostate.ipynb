{
 "cells": [
  {
   "cell_type": "code",
   "execution_count": 2,
   "metadata": {},
   "outputs": [],
   "source": [
    "import pandas as pd\n",
    "import numpy as np\n",
    "import matplotlib.pyplot as plt\n",
    "%matplotlib inline"
   ]
  },
  {
   "cell_type": "code",
   "execution_count": 6,
   "metadata": {},
   "outputs": [
    {
     "name": "stdout",
     "output_type": "stream",
     "text": [
      "      lcavol   lweight  age      lbph  svi       lcp  gleason  pgg45  \\\n",
      "0  -0.579818  2.769459   50 -1.386294    0 -1.386294        6      0   \n",
      "1  -0.994252  3.319626   58 -1.386294    0 -1.386294        6      0   \n",
      "2  -0.510826  2.691243   74 -1.386294    0 -1.386294        7     20   \n",
      "3  -1.203973  3.282789   58 -1.386294    0 -1.386294        6      0   \n",
      "4   0.751416  3.432373   62 -1.386294    0 -1.386294        6      0   \n",
      "5  -1.049822  3.228826   50 -1.386294    0 -1.386294        6      0   \n",
      "6   0.737164  3.473518   64  0.615186    0 -1.386294        6      0   \n",
      "7   0.693147  3.539509   58  1.536867    0 -1.386294        6      0   \n",
      "8  -0.776529  3.539509   47 -1.386294    0 -1.386294        6      0   \n",
      "9   0.223144  3.244544   63 -1.386294    0 -1.386294        6      0   \n",
      "10  0.254642  3.604138   65 -1.386294    0 -1.386294        6      0   \n",
      "11 -1.347074  3.598681   63  1.266948    0 -1.386294        6      0   \n",
      "12  1.613430  3.022861   63 -1.386294    0 -0.597837        7     30   \n",
      "13  1.477049  2.998229   67 -1.386294    0 -1.386294        7      5   \n",
      "14  1.205971  3.442019   57 -1.386294    0 -0.430783        7      5   \n",
      "15  1.541159  3.061052   66 -1.386294    0 -1.386294        6      0   \n",
      "16 -0.415515  3.516013   70  1.244155    0 -0.597837        7     30   \n",
      "17  2.288486  3.649359   66 -1.386294    0  0.371564        6      0   \n",
      "18 -0.562119  3.267666   41 -1.386294    0 -1.386294        6      0   \n",
      "19  0.182322  3.825375   70  1.658228    0 -1.386294        6      0   \n",
      "20  1.147402  3.419365   59 -1.386294    0 -1.386294        6      0   \n",
      "21  2.059239  3.501043   60  1.474763    0  1.348073        7     20   \n",
      "22 -0.544727  3.375880   59 -0.798508    0 -1.386294        6      0   \n",
      "23  1.781709  3.451574   63  0.438255    0  1.178655        7     60   \n",
      "24  0.385262  3.667400   69  1.599388    0 -1.386294        6      0   \n",
      "25  1.446919  3.124565   68  0.300105    0 -1.386294        6      0   \n",
      "26  0.512824  3.719651   65 -1.386294    0 -0.798508        7     70   \n",
      "27 -0.400478  3.865979   67  1.816452    0 -1.386294        7     20   \n",
      "28  1.040277  3.128951   67  0.223144    0  0.048790        7     80   \n",
      "29  2.409644  3.375880   65 -1.386294    0  1.619388        6      0   \n",
      "..       ...       ...  ...       ...  ...       ...      ...    ...   \n",
      "67  2.198335  4.050915   72  2.307573    0 -0.430783        7     10   \n",
      "68 -0.446287  4.408547   69 -1.386294    0 -1.386294        6      0   \n",
      "69  1.193922  4.780383   72  2.326302    0 -0.798508        7      5   \n",
      "70  1.864080  3.593194   60 -1.386294    1  1.321756        7     60   \n",
      "71  1.160021  3.341093   77  1.749200    0 -1.386294        7     25   \n",
      "72  1.214913  3.825375   69 -1.386294    1  0.223144        7     20   \n",
      "73  1.838961  3.236716   60  0.438255    1  1.178655        9     90   \n",
      "74  2.999226  3.849083   69 -1.386294    1  1.909542        7     20   \n",
      "75  3.141130  3.263849   68 -0.051293    1  2.420368        7     50   \n",
      "76  2.010895  4.433789   72  2.122262    0  0.500775        7     60   \n",
      "77  2.537657  4.354784   78  2.326302    0 -1.386294        7     10   \n",
      "78  2.648300  3.582129   69 -1.386294    1  2.583998        7     70   \n",
      "79  2.779440  3.823192   63 -1.386294    0  0.371564        7     50   \n",
      "80  1.467874  3.070376   66  0.559616    0  0.223144        7     40   \n",
      "81  2.513656  3.473518   57  0.438255    0  2.327278        7     60   \n",
      "82  2.613007  3.888754   77 -0.527633    1  0.559616        7     30   \n",
      "83  2.677591  3.838376   65  1.115142    0  1.749200        9     70   \n",
      "84  1.562346  3.709907   60  1.695616    0  0.810930        7     30   \n",
      "85  3.302849  3.518980   64 -1.386294    1  2.327278        7     60   \n",
      "86  2.024193  3.731699   58  1.638997    0 -1.386294        6      0   \n",
      "87  1.731656  3.369018   62 -1.386294    1  0.300105        7     30   \n",
      "88  2.807594  4.718052   65 -1.386294    1  2.463853        7     60   \n",
      "89  1.562346  3.695110   76  0.936093    1  0.810930        7     75   \n",
      "90  3.246491  4.101817   68 -1.386294    0 -1.386294        6      0   \n",
      "91  2.532903  3.677566   61  1.348073    1 -1.386294        7     15   \n",
      "92  2.830268  3.876396   68 -1.386294    1  1.321756        7     60   \n",
      "93  3.821004  3.896909   44 -1.386294    1  2.169054        7     40   \n",
      "94  2.907447  3.396185   52 -1.386294    1  2.463853        7     10   \n",
      "95  2.882564  3.773910   68  1.558145    1  1.558145        7     80   \n",
      "96  3.471966  3.974998   68  0.438255    1  2.904165        7     20   \n",
      "\n",
      "        lpsa train  \n",
      "0  -0.430783     T  \n",
      "1  -0.162519     T  \n",
      "2  -0.162519     T  \n",
      "3  -0.162519     T  \n",
      "4   0.371564     T  \n",
      "5   0.765468     T  \n",
      "6   0.765468     F  \n",
      "7   0.854415     T  \n",
      "8   1.047319     F  \n",
      "9   1.047319     F  \n",
      "10  1.266948     T  \n",
      "11  1.266948     T  \n",
      "12  1.266948     T  \n",
      "13  1.348073     T  \n",
      "14  1.398717     F  \n",
      "15  1.446919     T  \n",
      "16  1.470176     T  \n",
      "17  1.492904     T  \n",
      "18  1.558145     T  \n",
      "19  1.599388     T  \n",
      "20  1.638997     T  \n",
      "21  1.658228     F  \n",
      "22  1.695616     T  \n",
      "23  1.713798     T  \n",
      "24  1.731656     F  \n",
      "25  1.766442     F  \n",
      "26  1.800058     T  \n",
      "27  1.816452     F  \n",
      "28  1.848455     T  \n",
      "29  1.894617     T  \n",
      "..       ...   ...  \n",
      "67  2.962692     T  \n",
      "68  2.962692     T  \n",
      "69  2.972975     T  \n",
      "70  3.013081     T  \n",
      "71  3.037354     T  \n",
      "72  3.056357     F  \n",
      "73  3.075006     F  \n",
      "74  3.275256     T  \n",
      "75  3.337547     T  \n",
      "76  3.392829     T  \n",
      "77  3.435599     T  \n",
      "78  3.457893     T  \n",
      "79  3.513037     F  \n",
      "80  3.516013     T  \n",
      "81  3.530763     T  \n",
      "82  3.565298     T  \n",
      "83  3.570940     F  \n",
      "84  3.587677     T  \n",
      "85  3.630986     T  \n",
      "86  3.680091     T  \n",
      "87  3.712352     T  \n",
      "88  3.984344     T  \n",
      "89  3.993603     T  \n",
      "90  4.029806     T  \n",
      "91  4.129551     T  \n",
      "92  4.385147     T  \n",
      "93  4.684443     T  \n",
      "94  5.143124     F  \n",
      "95  5.477509     T  \n",
      "96  5.582932     F  \n",
      "\n",
      "[97 rows x 10 columns]\n"
     ]
    }
   ],
   "source": [
    "url = 'https://web.stanford.edu/~hastie/ElemStatLearn/datasets/prostate.data'\n",
    "df = pd.read_csv(url, sep='\\t', header=0)\n",
    "df = df.drop('Unnamed: 0', axis=1)\n",
    "print(df)"
   ]
  },
  {
   "cell_type": "code",
   "execution_count": 11,
   "metadata": {},
   "outputs": [
    {
     "name": "stdout",
     "output_type": "stream",
     "text": [
      "Target variable: lpsa\n",
      "Predictors:        ['lcavol', 'lweight', 'age', 'lbph', 'svi', 'lcp', 'gleason']\n",
      "\n",
      "num samples = 97, num features = 7\n"
     ]
    }
   ],
   "source": [
    "names = df.columns.tolist()\n",
    "names_x = names[0:7]\n",
    "name_y = names[8]\n",
    "print(\"Target variable: %s\" % name_y)\n",
    "print(\"Predictors:        \" +str(names_x))\n",
    "\n",
    "X0 = np.array(df[names_x])\n",
    "y0 = np.array(df[name_y])\n",
    "\n",
    "nsamp = X0.shape[0]\n",
    "nfeatures = X0.shape[1]\n",
    "print(\"\")\n",
    "print(\"num samples = %d, num features = %d\" % (nsamp, nfeatures))"
   ]
  },
  {
   "cell_type": "code",
   "execution_count": 12,
   "metadata": {},
   "outputs": [
    {
     "name": "stdout",
     "output_type": "stream",
     "text": [
      "[[-1.64586143 -2.01663373 -1.87210098 -1.03002898 -0.52565748 -0.86765522\n",
      "  -1.04757113]\n",
      " [-1.9993129  -0.72575948 -0.79198919 -1.03002898 -0.52565748 -0.86765522\n",
      "  -1.04757113]\n",
      " [-1.58702059 -2.20015441  1.36823439 -1.03002898 -0.52565748 -0.86765522\n",
      "   0.34440695]\n",
      " [-2.17817387 -0.8121913  -0.79198919 -1.03002898 -0.52565748 -0.86765522\n",
      "  -1.04757113]\n",
      " [-0.5105128  -0.46121762 -0.25193329 -1.03002898 -0.52565748 -0.86765522\n",
      "  -1.04757113]\n",
      " [-2.04670586 -0.93880639 -1.87210098 -1.03002898 -0.52565748 -0.86765522\n",
      "  -1.04757113]\n",
      " [-0.5226677  -0.3646778   0.01809466  0.35670122 -0.52565748 -0.86765522\n",
      "  -1.04757113]\n",
      " [-0.56020767 -0.20984103 -0.79198919  0.99529051 -0.52565748 -0.86765522\n",
      "  -1.04757113]\n",
      " [-1.81362657 -0.20984103 -2.2771429  -1.03002898 -0.52565748 -0.86765522\n",
      "  -1.04757113]\n",
      " [-0.9610521  -0.90192675 -0.11691932 -1.03002898 -0.52565748 -0.86765522\n",
      "  -1.04757113]\n",
      " [-0.93418834 -0.05819996  0.15310863 -1.03002898 -0.52565748 -0.86765522\n",
      "  -1.04757113]\n",
      " [-2.30021799 -0.07100389 -0.11691932  0.80827605 -0.52565748 -0.86765522\n",
      "  -1.04757113]\n",
      " [ 0.22465908 -1.4220686  -0.11691932 -1.03002898 -0.52565748 -0.30083707\n",
      "   0.34440695]\n",
      " [ 0.10834583 -1.47986344  0.42313658 -1.03002898 -0.52565748 -0.86765522\n",
      "   0.34440695]\n",
      " [-0.12284403 -0.4385849  -0.92700316 -1.03002898 -0.52565748 -0.1807427\n",
      "   0.34440695]\n",
      " [ 0.16302259 -1.33245984  0.2881226  -1.03002898 -0.52565748 -0.86765522\n",
      "  -1.04757113]\n",
      " [-1.50573493 -0.26497044  0.8281785   0.79248386 -0.52565748 -0.30083707\n",
      "   0.34440695]\n",
      " [ 0.80038343  0.04790351  0.2881226  -1.03002898 -0.52565748  0.39606027\n",
      "  -1.04757113]\n",
      " [-1.63076627 -0.84767487 -3.08722674 -1.03002898 -0.52565748 -0.86765522\n",
      "  -1.04757113]\n",
      " [-0.9958673   0.46089542  0.8281785   1.07937567 -0.52565748 -0.86765522\n",
      "  -1.04757113]\n",
      " [-0.17279428 -0.4917387  -0.65697521 -1.03002898 -0.52565748 -0.86765522\n",
      "  -1.04757113]\n",
      " [ 0.60486894 -0.30009502 -0.52196124  0.95226146 -0.52565748  1.09806826\n",
      "   0.34440695]\n",
      " [-1.61593366 -0.59376893 -0.65697521 -0.62277959 -0.52565748 -0.86765522\n",
      "  -1.04757113]\n",
      " [ 0.36817665 -0.4161657  -0.11691932  0.23411435 -0.52565748  0.97627438\n",
      "   0.34440695]\n",
      " [-0.82278841  0.09023368  0.69316453  1.03860789 -0.52565748 -0.86765522\n",
      "  -1.04757113]\n",
      " [ 0.08264956 -1.18343728  0.55815055  0.13839656 -0.52565748 -0.86765522\n",
      "  -1.04757113]\n",
      " [-0.71399732  0.21283185  0.15310863 -1.03002898 -0.52565748 -0.44509826\n",
      "   0.34440695]\n",
      " [-1.49290981  0.55616587  0.42313658  1.18900155 -0.52565748 -0.86765522\n",
      "   0.34440695]\n",
      " [-0.26415689 -1.17314627  0.42313658  0.08507392 -0.52565748  0.16402005\n",
      "   0.34440695]\n",
      " [ 0.9037135  -0.59376893  0.15310863 -1.03002898 -0.52565748  1.29311536\n",
      "  -1.04757113]\n",
      " [-0.90814498  1.08218997  0.15310863  1.29047369 -0.52565748 -0.44509826\n",
      "  -1.04757113]\n",
      " [-0.9958673   0.41177028  0.15310863  1.11160717 -0.52565748 -0.86765522\n",
      "  -1.04757113]\n",
      " [-0.0636628  -1.38806321  0.96319247  0.80827605 -0.52565748 -0.86765522\n",
      "  -1.04757113]\n",
      " [-1.14287478 -0.84767487 -1.33204508 -1.03002898 -0.52565748 -0.86765522\n",
      "  -1.04757113]\n",
      " [-1.15993242 -0.96684975 -0.11691932 -1.03002898 -0.52565748 -0.44509826\n",
      "  -1.04757113]\n",
      " [-0.03554419  1.15183144  0.01809466  1.43488428 -0.52565748 -0.86765522\n",
      "   0.34440695]\n",
      " [ 0.06234256  0.0661392   1.23322042 -0.47126026 -0.52565748  1.32103713\n",
      "   1.73638502]\n",
      " [-0.76124438 -2.94238594  0.01809466 -1.03002898 -0.52565748 -0.86765522\n",
      "   0.34440695]\n",
      " [ 1.118048    1.07038088  0.55815055  0.8822505   1.90237946  1.44637892\n",
      "   0.34440695]\n",
      " [-0.47120382 -1.44501572 -1.06201713  0.5790429  -0.52565748  0.01211097\n",
      "   0.34440695]\n",
      " [-0.62209987 -1.14254072 -0.52196124 -1.03002898 -0.52565748 -0.86765522\n",
      "   3.1283631 ]\n",
      " [ 0.07862666  0.12592138  0.55815055 -1.03002898 -0.52565748 -0.86765522\n",
      "   0.34440695]\n",
      " [-0.65481608  0.55616587 -0.25193329  1.11787737 -0.52565748 -0.1807427\n",
      "  -1.04757113]\n",
      " [ 0.35951816  0.62873791 -0.38694727 -1.03002898 -0.52565748  0.71191882\n",
      "   0.34440695]\n",
      " [ 0.1160991  -0.51489465  0.2881226   1.14240568 -0.52565748 -0.1807427\n",
      "   0.34440695]\n",
      " [ 0.26772493 -0.55400096 -0.38694727  0.35670122 -0.52565748 -0.86765522\n",
      "   0.34440695]\n",
      " [ 1.17509901  0.85993605  2.04330426  1.23266023  1.90237946  2.03887464\n",
      "   3.1283631 ]\n",
      " [-0.15936323  0.95303849  0.55815055  1.11787737 -0.52565748 -0.1807427\n",
      "   0.34440695]\n",
      " [ 0.33747937 -0.30718329 -2.81719879 -1.03002898 -0.52565748 -0.86765522\n",
      "  -1.04757113]\n",
      " [-0.11017138 -0.14270309  0.8281785   0.8822505  -0.52565748 -0.44509826\n",
      "  -1.04757113]\n",
      " [-0.22010989  0.85561411  0.55815055 -1.03002898 -0.52565748 -0.86765522\n",
      "   0.34440695]\n",
      " [ 0.26448829  1.421615    0.01809466  1.36687051 -0.52565748 -0.86765522\n",
      "  -1.04757113]\n",
      " [-0.71399732  0.0110004   0.01809466  0.96483055 -0.52565748  0.16402005\n",
      "   0.34440695]\n",
      " [ 0.66269388  1.15563954  0.55815055  1.15435171 -0.52565748  1.16912805\n",
      "   0.34440695]\n",
      " [ 1.53819093 -0.26497044 -0.65697521 -1.03002898 -0.52565748 -0.86765522\n",
      "   0.34440695]\n",
      " [-0.07083973  1.52790617  0.2881226   1.40088236 -0.52565748 -0.86765522\n",
      "   0.34440695]\n",
      " [-0.32020395 -1.79233616 -2.2771429  -1.03002898 -0.52565748  0.48894996\n",
      "   0.34440695]\n",
      " [-0.75586358  0.31848951 -2.00711495  0.91647239 -0.52565748 -0.86765522\n",
      "  -1.04757113]\n",
      " [-0.68883756  1.2888009   0.8281785   0.23411435 -0.52565748 -0.86765522\n",
      "   0.34440695]\n",
      " [-0.24626419  0.52151525 -0.38694727  0.82752319 -0.52565748 -0.86765522\n",
      "   0.34440695]\n",
      " [-0.76124438  2.10127925  1.23322042  1.54225202 -0.52565748 -0.86765522\n",
      "  -1.04757113]\n",
      " [ 0.55214455  0.21283185 -0.11691932  1.05246539  1.90237946  1.50170584\n",
      "   0.34440695]\n",
      " [ 1.2159132  -0.2441444   1.09820645 -1.03002898 -0.52565748  1.24908762\n",
      "   3.1283631 ]\n",
      " [ 0.58394572  0.67590387  0.2881226   1.32186427  1.90237946  1.64596703\n",
      "   0.34440695]\n",
      " [ 0.61675184 -0.01392703  0.01809466 -1.03002898 -0.52565748 -0.86765522\n",
      "  -1.04757113]\n",
      " [ 0.09262458  0.48634373 -0.38694727  0.84625007 -0.52565748 -0.1807427\n",
      "   0.34440695]\n",
      " [ 0.57385266  0.58546452  0.55815055  1.16609525 -0.52565748  1.07914887\n",
      "   0.34440695]\n",
      " [ 0.72349772  0.99008707  1.09820645  1.52927559 -0.52565748 -0.1807427\n",
      "   0.34440695]\n",
      " [-1.53197866  1.82921036  0.69316453 -1.03002898 -0.52565748 -0.86765522\n",
      "  -1.04757113]\n",
      " [-0.1331195   2.70166094  1.09820645  1.54225202 -0.52565748 -0.44509826\n",
      "   0.34440695]\n",
      " [ 0.43842708 -0.08387821 -0.52196124 -1.03002898  1.90237946  1.07914887\n",
      "   0.34440695]\n",
      " [-0.16203258 -0.67539077  1.77327632  1.14240568 -0.52565748 -0.86765522\n",
      "   0.34440695]\n",
      " [-0.11521787  0.46089542  0.69316453 -1.03002898  1.90237946  0.28936185\n",
      "   0.34440695]\n",
      " [ 0.41700419 -0.92029384 -0.52196124  0.23411435  1.90237946  0.97627438\n",
      "   3.1283631 ]\n",
      " [ 1.40654082  0.51652225  0.69316453 -1.03002898  1.90237946  1.50170584\n",
      "   0.34440695]\n",
      " [ 1.52756447 -0.85663082  0.55815055 -0.1050703   1.90237946  1.8689359\n",
      "   0.34440695]\n",
      " [ 0.56363872  1.88843646  1.09820645  1.40088236 -0.52565748  0.48894996\n",
      "   0.34440695]\n",
      " [ 1.01288993  1.70306453  1.90829029  1.54225202 -0.52565748 -0.86765522\n",
      "   0.34440695]\n",
      " [ 1.10725223 -0.10984037  0.69316453 -1.03002898  1.90237946  1.98656829\n",
      "   0.34440695]\n",
      " [ 1.2190955   0.45577338 -0.11691932 -1.03002898 -0.52565748  0.39606027\n",
      "   0.34440695]\n",
      " [ 0.10052143 -1.31058265  0.2881226   0.31819952 -0.52565748  0.28936185\n",
      "   0.34440695]\n",
      " [ 0.99242046 -0.3646778  -0.92700316  0.23411435 -0.52565748  1.80201365\n",
      "   0.34440695]\n",
      " [ 1.077152    0.60960358  1.77327632 -0.43510323  1.90237946  0.5312501\n",
      "   0.34440695]\n",
      " [ 1.132233    0.49140008  0.15310863  0.7030969  -0.52565748  1.38643629\n",
      "   3.1283631 ]\n",
      " [ 0.18109221  0.1899692  -0.52196124  1.10527971 -0.52565748  0.71191882\n",
      "   0.34440695]\n",
      " [ 1.66548696 -0.25800887  0.01809466 -1.03002898  1.90237946  1.80201365\n",
      "   0.34440695]\n",
      " [ 0.57498003  0.24110046 -0.79198919  1.06605117 -0.52565748 -0.86765522\n",
      "  -1.04757113]\n",
      " [ 0.32548825 -0.60986946 -0.25193329 -1.03002898  1.90237946  0.34468877\n",
      "   0.34440695]\n",
      " [ 1.24310643  2.55541174  0.15310863 -1.03002898  1.90237946  1.90019713\n",
      "   0.34440695]\n",
      " [ 0.18109221  0.15525053  1.63826234  0.5790429   1.90237946  0.71191882\n",
      "   0.34440695]\n",
      " [ 1.61742159  1.10952004  0.55815055 -1.03002898 -0.52565748 -0.86765522\n",
      "  -1.04757113]\n",
      " [ 1.00883515  0.11408648 -0.38694727  0.86448408  1.90237946 -0.86765522\n",
      "   0.34440695]\n",
      " [ 1.26244405  0.58060761  0.55815055 -1.03002898  1.90237946  1.07914887\n",
      "   0.34440695]\n",
      " [ 2.10739693  0.62873791 -2.68218482 -1.03002898  1.90237946  1.68826718\n",
      "   0.34440695]\n",
      " [ 1.3282669  -0.54612667 -1.60207303 -1.03002898  1.90237946  1.90019713\n",
      "   0.34440695]\n",
      " [ 1.30704467  0.34014146  0.55815055  1.0100326   1.90237946  1.24908762\n",
      "   0.34440695]\n",
      " [ 1.80971922  0.81196061  0.55815055  0.23411435  1.90237946  2.21673517\n",
      "   0.34440695]]\n"
     ]
    }
   ],
   "source": [
    "import sklearn.preprocessing\n",
    "\n",
    "X = sklearn.preprocessing.scale(X0)\n",
    "y = sklearn.preprocessing.scale(y0)"
   ]
  },
  {
   "cell_type": "code",
   "execution_count": 15,
   "metadata": {},
   "outputs": [
    {
     "name": "stdout",
     "output_type": "stream",
     "text": [
      "num samples train = 48, test = 49\n"
     ]
    }
   ],
   "source": [
    "from sklearn import linear_model\n",
    "\n",
    "ns_train = nsamp//2\n",
    "ns_test = nsamp - ns_train\n",
    "X_tr = X[:ns_train,:]     # Gets the first ns_train rows of X\n",
    "y_tr = y[:ns_train]       # Gets the correspoinding rows of y\n",
    "\n",
    "print(\"num samples train = %d, test = %d\" % (ns_train, ns_test))"
   ]
  },
  {
   "cell_type": "code",
   "execution_count": 17,
   "metadata": {},
   "outputs": [
    {
     "data": {
      "text/plain": [
       "LinearRegression(copy_X=True, fit_intercept=True, n_jobs=1, normalize=False)"
      ]
     },
     "execution_count": 17,
     "metadata": {},
     "output_type": "execute_result"
    }
   ],
   "source": [
    "regr = linear_model.LinearRegression()\n",
    "regr.fit(X_tr,y_tr)"
   ]
  },
  {
   "cell_type": "code",
   "execution_count": 18,
   "metadata": {},
   "outputs": [
    {
     "name": "stdout",
     "output_type": "stream",
     "text": [
      "Normalized training RSS=0.497834\n"
     ]
    },
    {
     "data": {
      "image/png": "[encoded data removed]",
      "text/plain": [
       "<matplotlib.figure.Figure at 0x118440ba8>"
      ]
     },
     "metadata": {},
     "output_type": "display_data"
    }
   ],
   "source": [
    "# Measure normalized RSS\n",
    "y_tr_pred = regr.predict(X_tr)\n",
    "RSS_tr = np.mean((y_tr_pred-y_tr)**2)/(np.std(y_tr)**2)\n",
    "print(\"Normalized training RSS=%f\" % RSS_tr)\n",
    "\n",
    "# Scatter plot\n",
    "plt.scatter(y_tr_pred, y_tr)\n",
    "plt.xlabel('Actual lpsa')\n",
    "plt.ylabel('Pred lpsa')\n",
    "ymin = np.min(y_tr)\n",
    "ymax = np.max(y_tr)\n",
    "plt.plot([ymin,ymax], [ymin,ymax], 'r-', linewidth=3)\n",
    "plt.grid()\n",
    "plt.show()"
   ]
  },
  {
   "cell_type": "code",
   "execution_count": 19,
   "metadata": {},
   "outputs": [
    {
     "name": "stdout",
     "output_type": "stream",
     "text": [
      "Normalized test RSS = 4.539225\n"
     ]
    }
   ],
   "source": [
    "X_ts = X[ns_train:,:]\n",
    "y_ts = y[ns_train:]\n",
    "y_ts_pred = regr.predict(X_ts)\n",
    "RSS_rel_ts = np.mean((y_ts_pred-y_ts)**2)/(np.std(y_ts)**2)\n",
    "print(\"Normalized test RSS = {0:f}\".format(RSS_rel_ts))"
   ]
  },
  {
   "cell_type": "code",
   "execution_count": 20,
   "metadata": {},
   "outputs": [
    {
     "data": {
      "image/png": "[encoded data removed]",
      "text/plain": [
       "<matplotlib.figure.Figure at 0x1184404e0>"
      ]
     },
     "metadata": {},
     "output_type": "display_data"
    }
   ],
   "source": [
    "plt.scatter(y_ts,y_ts_pred)\n",
    "plt.xlabel('Actual lpsa')\n",
    "plt.ylabel('Pred lpsa')\n",
    "plt.grid()\n",
    "plt.show()"
   ]
  },
  {
   "cell_type": "code",
   "execution_count": 21,
   "metadata": {
    "collapsed": true
   },
   "outputs": [],
   "source": [
    "import  sklearn.model_selection"
   ]
  },
  {
   "cell_type": "code",
   "execution_count": 27,
   "metadata": {},
   "outputs": [],
   "source": [
    "nfold = 10\n",
    "kf = sklearn.model_selection.KFold(n_splits=nfold, shuffle = True)\n",
    "\n",
    "model = linear_model.Lasso(warm_start=True)\n",
    "\n",
    "nalpha = 100\n",
    "alphas = np.logspace(-3, 1, nalpha)\n",
    "\n",
    "mse = np.zeros((nalpha, nfold))\n",
    "for ifold, ind in enumerate(kf.split(X)):\n",
    "    \n",
    "    Itr, Its = ind\n",
    "    X_tr = X[Itr, :]\n",
    "    y_tr = y[Itr]\n",
    "    X_ts = X[Its,:]\n",
    "    y_ts = y[Its]\n",
    "    \n",
    "    for ia, a in enumerate(alphas):\n",
    "        model.alpha = a\n",
    "        model.fit(X_tr, y_tr)\n",
    "        \n",
    "        y_ts_pred = model.predict(X_ts)\n",
    "        mse[ia,ifold] = np.mean((y_ts_pred-y_ts)**2)\n",
    "        \n",
    "    "
   ]
  },
  {
   "cell_type": "code",
   "execution_count": 28,
   "metadata": {},
   "outputs": [
    {
     "data": {
      "image/png": "[encoded data removed]",
      "text/plain": [
       "<matplotlib.figure.Figure at 0x118471ac8>"
      ]
     },
     "metadata": {},
     "output_type": "display_data"
    }
   ],
   "source": [
    "# Compute the mean and standard deviation over the different folds.\n",
    "mse_mean = np.mean(mse,axis=1)\n",
    "mse_std = np.std(mse,axis=1) / np.sqrt(nfold-1)\n",
    "\n",
    "# Plot the mean MSE and the mean MSE + 1 std dev\n",
    "plt.semilogx(alphas, mse_mean)\n",
    "plt.semilogx(alphas, mse_mean+mse_std)\n",
    "plt.legend(['Mean MSE', 'Mean MSE+1 SE'],loc='upper left')\n",
    "plt.xlabel('alpha')\n",
    "plt.ylabel('Test MSE')\n",
    "plt.grid()\n",
    "plt.show()"
   ]
  },
  {
   "cell_type": "code",
   "execution_count": 29,
   "metadata": {},
   "outputs": [
    {
     "name": "stdout",
     "output_type": "stream",
     "text": [
      "Optimal alpha = 0.166810\n"
     ]
    },
    {
     "data": {
      "image/png": "[encoded data removed]",
      "text/plain": [
       "<matplotlib.figure.Figure at 0x11baed0f0>"
      ]
     },
     "metadata": {},
     "output_type": "display_data"
    }
   ],
   "source": [
    "# Find the minimum MSE and MSE target\n",
    "imin = np.argmin(mse_mean)\n",
    "mse_tgt = mse_mean[imin] + mse_std[imin]\n",
    "alpha_min = alphas[imin]\n",
    "\n",
    "# Find the least complex model with mse_mean < mse_tgt\n",
    "I = np.where(mse_mean < mse_tgt)[0]\n",
    "iopt = I[-1]\n",
    "alpha_opt = alphas[iopt]\n",
    "print(\"Optimal alpha = %f\" % alpha_opt)\n",
    "# Plot the mean MSE and the mean MSE + 1 std dev\n",
    "plt.semilogx(alphas, mse_mean)\n",
    "plt.semilogx(alphas, mse_mean+mse_std)\n",
    "\n",
    "# Plot the MSE target\n",
    "plt.semilogx([alpha_min,alpha_opt], [mse_tgt,mse_tgt], 'rs--')\n",
    "\n",
    "# Plot the optimal alpha line\n",
    "plt.semilogx([alpha_opt,alpha_opt], [0.35,mse_mean[iopt]], 'ro--')\n",
    "\n",
    "plt.legend(['Mean MSE', 'Mean MSE+1 SE', 'MSE target','alpha opt'],loc='upper left')\n",
    "plt.xlabel('alpha')\n",
    "plt.ylabel('Test MSE')\n",
    "plt.ylim([0.35,1.6])\n",
    "plt.grid()\n",
    "plt.show()"
   ]
  },
  {
   "cell_type": "code",
   "execution_count": 30,
   "metadata": {},
   "outputs": [
    {
     "name": "stdout",
     "output_type": "stream",
     "text": [
      "  lcavol 0.464526\n",
      " lweight 0.115832\n",
      "     age 0.000000\n",
      "    lbph 0.000000\n",
      "     svi 0.131102\n",
      "     lcp 0.000000\n",
      " gleason 0.000000\n"
     ]
    }
   ],
   "source": [
    "model.alpha = alpha_opt\n",
    "model.fit(X, y)\n",
    "\n",
    "for i, c in enumerate(model.coef_):\n",
    "    print(\"%8s %f\" % (names_x[i], c))"
   ]
  },
  {
   "cell_type": "code",
   "execution_count": null,
   "metadata": {
    "collapsed": true
   },
   "outputs": [],
   "source": []
  }
 ],
 "metadata": {
  "kernelspec": {
   "display_name": "Python 3",
   "language": "python",
   "name": "python3"
  },
  "language_info": {
   "codemirror_mode": {
    "name": "ipython",
    "version": 3
   },
   "file_extension": ".py",
   "mimetype": "text/x-python",
   "name": "python",
   "nbconvert_exporter": "python",
   "pygments_lexer": "ipython3",
   "version": "3.6.1"
  }
 },
 "nbformat": 4,
 "nbformat_minor": 2
}
